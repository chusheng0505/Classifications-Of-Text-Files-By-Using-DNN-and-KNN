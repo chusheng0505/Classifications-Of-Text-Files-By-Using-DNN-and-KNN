{
 "cells": [
  {
   "cell_type": "code",
   "execution_count": 1,
   "metadata": {
    "scrolled": true
   },
   "outputs": [],
   "source": [
    "import re\n",
    "import os\n",
    "import numpy as np\n",
    "import pandas as pd\n",
    "import matplotlib.pyplot as plt\n",
    "\n",
    "\n",
    "try:\n",
    "    import jieba\n",
    "except ModuleNotFoundError:\n",
    "    !pip install jieba\n",
    "import jieba\n",
    "import jieba.analyse\n",
    "\n",
    "\n",
    "try:\n",
    "    from opencc import OpenCC\n",
    "except ModuleNotFoundError:\n",
    "    !pip install opencc-python-reimplemented\n",
    "from opencc import OpenCC\n",
    "\n",
    "\n",
    "try:\n",
    "    import gensim\n",
    "except ModuleNotFoundError:\n",
    "    !pip install gensim\n",
    "import gensim\n",
    "from gensim import utils\n",
    "from gensim import corpora,models\n",
    "\n",
    "\n",
    "import tensorflow as tf\n",
    "from tensorflow.keras.models import Model\n",
    "from tensorflow.keras.layers import (Conv1D,Activation,MaxPooling1D,\n",
    "                                     Dense,BatchNormalization,Flatten,\n",
    "                                     Input,GlobalMaxPooling1D,GlobalMaxPooling2D,\n",
    "                                     Conv2D,Add)\n",
    "from tensorflow.keras.callbacks import EarlyStopping,ReduceLROnPlateau,ModelCheckpoint\n",
    "\n",
    "\n",
    "from sklearn.model_selection import train_test_split\n",
    "from sklearn.preprocessing import LabelEncoder\n",
    "from sklearn.neighbors import KNeighborsClassifier"
   ]
  },
  {
   "cell_type": "code",
   "execution_count": null,
   "metadata": {},
   "outputs": [],
   "source": []
  },
  {
   "cell_type": "markdown",
   "metadata": {},
   "source": [
    "### Loading Training Datasets"
   ]
  },
  {
   "cell_type": "code",
   "execution_count": 2,
   "metadata": {},
   "outputs": [
    {
     "name": "stdout",
     "output_type": "stream",
     "text": [
      "Wall time: 41.8 s\n"
     ]
    }
   ],
   "source": [
    "%%time\n",
    "\"\"\" 簡體轉換成繁體  \"\"\"\n",
    "convertor = OpenCC('s2tw')\n",
    "\n",
    "path_folder = 'path of training datas'\n",
    "jieba.set_dictionary('path of jieba dictionary')\n",
    "\n",
    "with open('path of stopping words','r',encoding='utf-8') as file:\n",
    "    stopWords = file.read().split('\\n')\n",
    "\n",
    "TEXT = []\n",
    "for folder in os.listdir(path_folder):\n",
    "    path_subfolder = path_folder + '\\\\' + folder\n",
    "    text = []\n",
    "    for file in os.listdir(path_subfolder):\n",
    "        path_file = path_subfolder + '\\\\' + file\n",
    "        text.append(\n",
    "            convertor.convert(\n",
    "                re.sub('http:[/\\w.]*','',re.sub('\\s','',open(path_file,encoding='utf-8').read()))\n",
    "            )\n",
    "        )\n",
    "    TEXT.append(text)"
   ]
  },
  {
   "cell_type": "code",
   "execution_count": null,
   "metadata": {},
   "outputs": [],
   "source": []
  },
  {
   "cell_type": "markdown",
   "metadata": {},
   "source": [
    "## Data Prepocessing"
   ]
  },
  {
   "cell_type": "code",
   "execution_count": 4,
   "metadata": {},
   "outputs": [
    {
     "name": "stderr",
     "output_type": "stream",
     "text": [
      "Building prefix dict from C:\\Users\\CHUSHENGTAN\\Desktop\\dict.txt.big.txt ...\n",
      "Loading model from cache C:\\Users\\CHUSHE~1\\AppData\\Local\\Temp\\jieba.u5e9331e68a82b19098f5fc63918823d8.cache\n",
      "Loading model cost 1.105 seconds.\n",
      "Prefix dict has been built successfully.\n"
     ]
    },
    {
     "name": "stdout",
     "output_type": "stream",
     "text": [
      "Wall time: 1min 6s\n"
     ]
    }
   ],
   "source": [
    "%%time\n",
    "\"\"\"\n",
    "## 提取 top-10 的 tf-idf 結果\n",
    "\"\"\"\n",
    "Jieba_Result = []\n",
    "for n_category in range(len(TEXT)):\n",
    "    jieba_result = []\n",
    "    for n_files in range(len(TEXT[n_category])):\n",
    "        result = list(jieba.cut_for_search(TEXT[n_category][n_files]))\n",
    "        result = jieba.analyse.extract_tags(re.sub('\\d*','',''.join(result)),topK = 10)\n",
    "        jieba_result.append([t for t in result if t not in stopWords])\n",
    "    Jieba_Result.append(jieba_result)\n",
    "Jieba_Result = sum(Jieba_Result,[])\n",
    "\n",
    "dictionary = corpora.Dictionary(Jieba_Result)\n",
    "corpus = [dictionary.doc2bow(text) for text in Jieba_Result]\n",
    "model = models.TfidfModel(corpus)\n",
    "corpus_tfidf = [text for text in model[corpus]]\n",
    "\n",
    "X = gensim.matutils.corpus2dense(corpus_tfidf,num_terms=len(dictionary.token2id)).T\n",
    "\n",
    "y = [[category]*len(TEXT[idx]) for idx,category in enumerate(os.listdir(path_folder))]\n",
    "y = sum(y,[])\n",
    "\n",
    "le = LabelEncoder()\n",
    "y_le = le.fit_transform(np.reshape(y,(-1,1)))"
   ]
  },
  {
   "cell_type": "code",
   "execution_count": 9,
   "metadata": {
    "scrolled": true
   },
   "outputs": [
    {
     "name": "stdout",
     "output_type": "stream",
     "text": [
      "5103 3827 1276\n"
     ]
    }
   ],
   "source": [
    "x_train,x_test,y_train,y_test = train_test_split(X,y_le,test_size = 0.25 , stratify = y_le)\n",
    "x_valid,x_test,y_valid,y_test = train_test_split(x_train,y_train,test_size = 0.25 , stratify = y_train)\n",
    "print(len(x_train),len(x_valid),len(x_test))\n",
    "\n",
    "n_category = len(os.listdir(path_folder))\n",
    "\n",
    "x_train_ = tf.expand_dims(tf.convert_to_tensor(x_train),axis=1)\n",
    "x_valid_ = tf.expand_dims(tf.convert_to_tensor(x_valid),axis=1)\n",
    "x_test_ = tf.expand_dims(tf.convert_to_tensor(x_test),axis=1)#因為模型要求3個，要自己增加一個1在[0,1,2]\n",
    "\n",
    "y_train_ = tf.one_hot(y_train,n_category)\n",
    "y_valid_ = tf.one_hot(y_valid,n_category)\n",
    "y_test_ = tf.one_hot(y_test,n_category)"
   ]
  },
  {
   "cell_type": "code",
   "execution_count": null,
   "metadata": {},
   "outputs": [],
   "source": []
  },
  {
   "cell_type": "markdown",
   "metadata": {},
   "source": [
    "## Model"
   ]
  },
  {
   "cell_type": "code",
   "execution_count": 10,
   "metadata": {
    "scrolled": true
   },
   "outputs": [
    {
     "name": "stdout",
     "output_type": "stream",
     "text": [
      "Model: \"model\"\n",
      "__________________________________________________________________________________________________\n",
      "Layer (type)                    Output Shape         Param #     Connected to                     \n",
      "==================================================================================================\n",
      "input_1 (InputLayer)            [(None, 1, 16249)]   0                                            \n",
      "__________________________________________________________________________________________________\n",
      "conv1d_1 (Conv1D)               (None, 1, 1024)      49917952    input_1[0][0]                    \n",
      "__________________________________________________________________________________________________\n",
      "max_pooling1d (MaxPooling1D)    (None, 1, 1024)      0           conv1d_1[0][0]                   \n",
      "__________________________________________________________________________________________________\n",
      "global_max_pooling1d_1 (GlobalM (None, 1024)         0           max_pooling1d[0][0]              \n",
      "__________________________________________________________________________________________________\n",
      "conv1d_2 (Conv1D)               (None, 1, 512)       1573376     max_pooling1d[0][0]              \n",
      "__________________________________________________________________________________________________\n",
      "dense (Dense)                   (None, 512)          524800      global_max_pooling1d_1[0][0]     \n",
      "__________________________________________________________________________________________________\n",
      "global_max_pooling1d (GlobalMax (None, 512)          0           conv1d_2[0][0]                   \n",
      "__________________________________________________________________________________________________\n",
      "add (Add)                       (None, 512)          0           dense[0][0]                      \n",
      "                                                                 global_max_pooling1d[0][0]       \n",
      "__________________________________________________________________________________________________\n",
      "dense_1 (Dense)                 (None, 256)          131328      add[0][0]                        \n",
      "__________________________________________________________________________________________________\n",
      "dense_2 (Dense)                 (None, 64)           16448       dense_1[0][0]                    \n",
      "__________________________________________________________________________________________________\n",
      "batch_normalization (BatchNorma (None, 64)           256         dense_2[0][0]                    \n",
      "__________________________________________________________________________________________________\n",
      "dense_3 (Dense)                 (None, 7)            455         batch_normalization[0][0]        \n",
      "==================================================================================================\n",
      "Total params: 52,164,615\n",
      "Trainable params: 52,164,487\n",
      "Non-trainable params: 128\n",
      "__________________________________________________________________________________________________\n"
     ]
    }
   ],
   "source": [
    "inputs = Input(shape = x_train_.shape[1:])\n",
    "x = Conv1D(1024,3,activation='relu',padding='same')(inputs)\n",
    "x = Conv1D(1024,3,activation='relu',padding='same')(inputs)\n",
    "x = MaxPooling1D(pool_size = 2,strides = 2 , padding = 'same')(x)\n",
    "x1 = Conv1D(512,3,activation = 'relu',padding='same')(x)\n",
    "x1 = GlobalMaxPooling1D()(x1)\n",
    "x = GlobalMaxPooling1D()(x)\n",
    "x = Dense(512,activation='relu')(x)\n",
    "x = Add()([x,x1])\n",
    "x = Dense(256,activation='relu')(x)\n",
    "x = Dense(64,activation = 'relu')(x)\n",
    "x = BatchNormalization()(x)\n",
    "output = Dense(n_category,activation='softmax')(x)#最後一定要用softmax!!!\n",
    "model_nn = Model(inputs,output)\n",
    "\n",
    "model_nn.summary()"
   ]
  },
  {
   "cell_type": "code",
   "execution_count": 12,
   "metadata": {
    "scrolled": true
   },
   "outputs": [
    {
     "name": "stdout",
     "output_type": "stream",
     "text": [
      "Epoch 1/100\n",
      "319/319 [==============================] - 24s 61ms/step - loss: 0.7029 - val_loss: 0.7668\n",
      "Epoch 2/100\n",
      "319/319 [==============================] - 18s 58ms/step - loss: 0.0486 - val_loss: 0.0125\n",
      "Epoch 3/100\n",
      "319/319 [==============================] - 18s 58ms/step - loss: 0.0094 - val_loss: 0.0014\n",
      "Epoch 4/100\n",
      "319/319 [==============================] - 18s 58ms/step - loss: 0.0047 - val_loss: 7.1166e-04\n",
      "Epoch 5/100\n",
      "319/319 [==============================] - 19s 58ms/step - loss: 0.0029 - val_loss: 5.0366e-04\n",
      "Epoch 6/100\n",
      "319/319 [==============================] - 18s 58ms/step - loss: 0.0027 - val_loss: 4.7242e-04\n",
      "Epoch 7/100\n",
      "319/319 [==============================] - 18s 58ms/step - loss: 0.0020 - val_loss: 2.7645e-04\n",
      "Epoch 8/100\n",
      "319/319 [==============================] - 18s 58ms/step - loss: 0.0014 - val_loss: 2.1157e-04\n",
      "Epoch 9/100\n",
      "319/319 [==============================] - 19s 58ms/step - loss: 0.0012 - val_loss: 1.8266e-04\n",
      "Epoch 10/100\n",
      "319/319 [==============================] - 19s 58ms/step - loss: 0.0011 - val_loss: 1.3416e-04\n",
      "Epoch 11/100\n",
      "319/319 [==============================] - 18s 58ms/step - loss: 8.3978e-04 - val_loss: 1.0438e-04\n",
      "Epoch 12/100\n",
      "319/319 [==============================] - 18s 58ms/step - loss: 6.6533e-04 - val_loss: 8.5463e-05\n",
      "Epoch 13/100\n",
      "319/319 [==============================] - 18s 58ms/step - loss: 6.7435e-04 - val_loss: 7.3065e-05\n",
      "Epoch 14/100\n",
      "319/319 [==============================] - 18s 58ms/step - loss: 5.6242e-04 - val_loss: 7.4082e-05\n",
      "Epoch 15/100\n",
      "319/319 [==============================] - 18s 58ms/step - loss: 4.9003e-04 - val_loss: 7.1865e-05\n",
      "Epoch 16/100\n",
      "319/319 [==============================] - 18s 58ms/step - loss: 5.7588e-04 - val_loss: 6.8170e-05\n",
      "Epoch 17/100\n",
      "319/319 [==============================] - 18s 58ms/step - loss: 6.2828e-04 - val_loss: 6.7907e-05\n",
      "Epoch 18/100\n",
      "319/319 [==============================] - 18s 58ms/step - loss: 5.1914e-04 - val_loss: 7.1404e-05\n",
      "Epoch 19/100\n",
      "319/319 [==============================] - 18s 58ms/step - loss: 4.9033e-04 - val_loss: 6.9310e-05\n",
      "Epoch 20/100\n",
      "319/319 [==============================] - 19s 58ms/step - loss: 4.6430e-04 - val_loss: 6.8382e-05\n",
      "Epoch 21/100\n",
      "319/319 [==============================] - 18s 58ms/step - loss: 4.9290e-04 - val_loss: 6.9249e-05\n",
      "Epoch 22/100\n",
      "319/319 [==============================] - 19s 58ms/step - loss: 5.1585e-04 - val_loss: 6.9759e-05\n",
      "Restoring model weights from the end of the best epoch.\n",
      "Epoch 00022: early stopping\n"
     ]
    },
    {
     "data": {
      "text/plain": [
       "<keras.callbacks.History at 0x21d7b7b1808>"
      ]
     },
     "execution_count": 12,
     "metadata": {},
     "output_type": "execute_result"
    }
   ],
   "source": [
    "epochs = 100\n",
    "batch_size = 16\n",
    "lr = 1e-4\n",
    "loss = tf.keras.losses.categorical_crossentropy\n",
    "optimizer = tf.keras.optimizers.Adam(lr)\n",
    "\n",
    "\"\"\" Early stopping \"\"\"\n",
    "early_stop = EarlyStopping(monitor = 'val_loss',\n",
    "                           mode = 'min' , \n",
    "                           verbose = 1,#不一定要做這個\n",
    "                           patience = 5,#做五次就停\n",
    "                           restore_best_weights = True)\n",
    "reduce_lr = ReduceLROnPlateau(monitor = 'val_loss', \n",
    "                              factor = 0.1,#也可以0.01但這樣就夠了\n",
    "                              patience = 3,\n",
    "                              min_lr = 1e-8)\n",
    "callbacks = [early_stop,reduce_lr]\n",
    "\n",
    "model_nn.compile(loss=loss,optimizer=optimizer)\n",
    "\n",
    "model_nn.fit( x = x_train_,\n",
    "              y = y_train_,\n",
    "              validation_data = (x_valid_,y_valid_),\n",
    "              epochs = epochs,\n",
    "              batch_size = batch_size,\n",
    "              callbacks = callbacks)"
   ]
  },
  {
   "cell_type": "code",
   "execution_count": 13,
   "metadata": {
    "scrolled": true
   },
   "outputs": [
    {
     "data": {
      "image/png": "[encoded data removed]",
      "text/plain": [
       "<Figure size 432x288 with 1 Axes>"
      ]
     },
     "metadata": {
      "needs_background": "light"
     },
     "output_type": "display_data"
    }
   ],
   "source": [
    "loss = model_nn.history.history['loss']\n",
    "val_loss = model_nn.history.history['val_loss']\n",
    "\n",
    "plt.plot(loss,'r-')\n",
    "plt.plot(val_loss,'b-')\n",
    "plt.tight_layout()"
   ]
  },
  {
   "cell_type": "code",
   "execution_count": 14,
   "metadata": {},
   "outputs": [
    {
     "name": "stdout",
     "output_type": "stream",
     "text": [
      "1.0\n"
     ]
    }
   ],
   "source": [
    "pred = model_nn.predict(x_test_)\n",
    "accuracy = np.round(sum(1*(pred.argmax(-1) == y_test))/len(y_test),4)\n",
    "print(accuracy)"
   ]
  },
  {
   "cell_type": "code",
   "execution_count": null,
   "metadata": {},
   "outputs": [],
   "source": []
  },
  {
   "cell_type": "code",
   "execution_count": null,
   "metadata": {},
   "outputs": [],
   "source": []
  },
  {
   "cell_type": "code",
   "execution_count": null,
   "metadata": {},
   "outputs": [],
   "source": []
  },
  {
   "cell_type": "markdown",
   "metadata": {},
   "source": [
    "## Testing Files"
   ]
  },
  {
   "cell_type": "code",
   "execution_count": 15,
   "metadata": {},
   "outputs": [
    {
     "name": "stdout",
     "output_type": "stream",
     "text": [
      "Wall time: 10.4 s\n"
     ]
    }
   ],
   "source": [
    "%%time\n",
    "\"\"\" 簡體轉換成繁體  \"\"\"\n",
    "convertor = OpenCC('s2tw')\n",
    "\n",
    "path_folder = 'C:\\\\Users\\\\CHUSHENGTAN\\\\Desktop\\\\chinese_news_dataset\\\\test\\\\'\n",
    "\n",
    "TEXT = []\n",
    "for folder in os.listdir(path_folder):\n",
    "    path_subfolder = path_folder + '\\\\' + folder\n",
    "    text = []\n",
    "    for file in os.listdir(path_subfolder):\n",
    "        path_file = path_subfolder + '\\\\' + file\n",
    "        text.append(\n",
    "            convertor.convert(\n",
    "                re.sub('http:[/\\w.]*','',re.sub('\\s','',open(path_file,encoding='utf-8').read()))\n",
    "            )\n",
    "        )\n",
    "    TEXT.append(text)"
   ]
  },
  {
   "cell_type": "code",
   "execution_count": 16,
   "metadata": {},
   "outputs": [
    {
     "name": "stdout",
     "output_type": "stream",
     "text": [
      "Wall time: 15.6 s\n"
     ]
    }
   ],
   "source": [
    "%%time\n",
    "\"\"\"\n",
    "## 提取 top-10 的 tf-idf 結果\n",
    "\"\"\"\n",
    "Jieba_Result = []\n",
    "for n_category in range(len(TEXT)):\n",
    "    jieba_result = []\n",
    "    for n_files in range(len(TEXT[n_category])):\n",
    "        result = list(jieba.cut_for_search(TEXT[n_category][n_files]))\n",
    "        result = jieba.analyse.extract_tags(re.sub('\\d*','',''.join(result)),topK = 10)\n",
    "        jieba_result.append([t for t in result if t not in stopWords])\n",
    "    Jieba_Result.append(jieba_result)\n",
    "Jieba_Result = sum(Jieba_Result,[]) \n",
    "\n",
    "\n",
    "# dictionary = corpora.Dictionary(Jieba_Result)\n",
    "corpus = [dictionary.doc2bow(text) for text in Jieba_Result]\n",
    "model = models.TfidfModel(corpus)\n",
    "corpus_tfidf = [text for text in model[corpus]]\n",
    "\n",
    "X = gensim.matutils.corpus2dense(corpus_tfidf,num_terms=len(dictionary.token2id)).T#統合起來一起看\n",
    "X_pred = tf.expand_dims(tf.convert_to_tensor(X),axis=1) "
   ]
  },
  {
   "cell_type": "code",
   "execution_count": 18,
   "metadata": {},
   "outputs": [
    {
     "name": "stdout",
     "output_type": "stream",
     "text": [
      "0.6685\n"
     ]
    }
   ],
   "source": [
    "pred = model_nn.predict(X_pred).argmax(-1)\n",
    "y = [[category]*len(TEXT[idx]) for idx,category in enumerate(os.listdir(path_folder))] \n",
    "y = sum(y,[])\n",
    "print(sum(1*(le.inverse_transform(pred) == y))/len(y))"
   ]
  },
  {
   "cell_type": "code",
   "execution_count": null,
   "metadata": {},
   "outputs": [],
   "source": []
  },
  {
   "cell_type": "markdown",
   "metadata": {},
   "source": [
    "## Discussions"
   ]
  },
  {
   "cell_type": "code",
   "execution_count": 19,
   "metadata": {
    "scrolled": true
   },
   "outputs": [
    {
     "data": {
      "text/plain": [
       "(array([  16,   23,   27,   31,   33,   40,   71,  134,  141,  146,  158,\n",
       "         191,  203,  243,  325,  328,  372,  379,  411,  421,  483,  492,\n",
       "         497,  515,  523,  535,  553,  565,  568,  585,  651,  786,  800,\n",
       "         855,  885,  902,  964,  965, 1041, 1060, 1067, 1076, 1108, 1120,\n",
       "        1143, 1165, 1166, 1171, 1187, 1191, 1199, 1215, 1268, 1292, 1295,\n",
       "        1307, 1335, 1348, 1371, 1372, 1377, 1380, 1397, 1400, 1401, 1402,\n",
       "        1403, 1404, 1405, 1406, 1407, 1408, 1409, 1410, 1411, 1412, 1413,\n",
       "        1414, 1415, 1416, 1417, 1418, 1419, 1420, 1421, 1422, 1423, 1424,\n",
       "        1425, 1426, 1427, 1428, 1429, 1430, 1431, 1432, 1433, 1434, 1435,\n",
       "        1436, 1437, 1438, 1439, 1440, 1441, 1442, 1443, 1444, 1445, 1446,\n",
       "        1447, 1448, 1449, 1450, 1451, 1452, 1453, 1454, 1455, 1456, 1457,\n",
       "        1458, 1459, 1460, 1461, 1462, 1463, 1464, 1465, 1466, 1467, 1468,\n",
       "        1469, 1470, 1471, 1472, 1473, 1474, 1475, 1476, 1477, 1478, 1479,\n",
       "        1480, 1481, 1482, 1483, 1484, 1485, 1486, 1487, 1488, 1489, 1490,\n",
       "        1491, 1492, 1493, 1494, 1495, 1496, 1497, 1498, 1499, 1500, 1501,\n",
       "        1502, 1503, 1504, 1505, 1506, 1507, 1508, 1509, 1510, 1511, 1512,\n",
       "        1513, 1514, 1515, 1516, 1517, 1518, 1519, 1520, 1521, 1522, 1523,\n",
       "        1524, 1525, 1526, 1527, 1528, 1529, 1530, 1531, 1532, 1533, 1534,\n",
       "        1535, 1536, 1537, 1538, 1539, 1540, 1541, 1542, 1543, 1544, 1545,\n",
       "        1546, 1547, 1548, 1549, 1550, 1551, 1552, 1553, 1554, 1555, 1556,\n",
       "        1557, 1558, 1559, 1560, 1561, 1562, 1563, 1564, 1565, 1566, 1567,\n",
       "        1568, 1569, 1570, 1571, 1572, 1573, 1574, 1575, 1576, 1577, 1578,\n",
       "        1579, 1580, 1581, 1582, 1583, 1584, 1585, 1586, 1587, 1588, 1589,\n",
       "        1590, 1591, 1592, 1593, 1594, 1595, 1596, 1597, 1598, 1599, 1600,\n",
       "        1601, 1602, 1603, 1604, 1605, 1606, 1607, 1608, 1609, 1610, 1611,\n",
       "        1612, 1613, 1614, 1615, 1616, 1617, 1618, 1619, 1620, 1621, 1622,\n",
       "        1623, 1624, 1625, 1626, 1627, 1628, 1629, 1630, 1631, 1632, 1633,\n",
       "        1634, 1635, 1636, 1637, 1638, 1639, 1640, 1641, 1642, 1643, 1644,\n",
       "        1645, 1646, 1647, 1648, 1649, 1650, 1651, 1652, 1653, 1654, 1655,\n",
       "        1656, 1657, 1658, 1659, 1660, 1661, 1662, 1663, 1664, 1665, 1666,\n",
       "        1667, 1668, 1669, 1670, 1671, 1672, 1673, 1674, 1675, 1676, 1677,\n",
       "        1678, 1679, 1680, 1681, 1682, 1683, 1684, 1685, 1686, 1687, 1688,\n",
       "        1689, 1690, 1691, 1692, 1693, 1694, 1695, 1696, 1697, 1698, 1699,\n",
       "        1700, 1701, 1702, 1703, 1704, 1705, 1706, 1707, 1708, 1709, 1710,\n",
       "        1711, 1712, 1713, 1714, 1715, 1716, 1717, 1718, 1719, 1720, 1721,\n",
       "        1722, 1723, 1724, 1725, 1726, 1727, 1728, 1729, 1730, 1731, 1732,\n",
       "        1733, 1734, 1735, 1736, 1737, 1738, 1739, 1740, 1741, 1742, 1743,\n",
       "        1744, 1745, 1746, 1747, 1748, 1749, 1750, 1751, 1752, 1753, 1754,\n",
       "        1755, 1756, 1757, 1758, 1759, 1760, 1761, 1762, 1763, 1764, 1765,\n",
       "        1766, 1767, 1768, 1769, 1770, 1771, 1772, 1773, 1774, 1775, 1776,\n",
       "        1777, 1778, 1779, 1780, 1781, 1782, 1783, 1784, 1785, 1786, 1787,\n",
       "        1788, 1789, 1790, 1791, 1792, 1793, 1794, 1795, 1796, 1797, 1798,\n",
       "        1799, 1800, 1801, 1802, 1803, 1804, 1805, 1806, 1807, 1808, 1809,\n",
       "        1810, 1811, 1812, 1813, 1814, 1815, 1816, 1817, 1818, 1819, 1820,\n",
       "        1821, 1822, 1823, 1824, 1825, 1826, 1827, 1828, 1829, 1830, 1831,\n",
       "        1832, 1833, 1834, 1835, 1836, 1837, 1838, 1839, 1840, 1841, 1842,\n",
       "        1843, 1844, 1845, 1846, 1847, 1848, 1849, 1850, 1851, 1852, 1853,\n",
       "        1854, 1855, 1856, 1857, 1858, 1859, 1860, 1861, 1862, 1863, 1864,\n",
       "        1865, 1866, 1867, 1868, 1869, 1870, 1871, 1872, 1873, 1874, 1875,\n",
       "        1876, 1877, 1878, 1879, 1880, 1881, 1882, 1883, 1884, 1885, 1886,\n",
       "        1887, 1888, 1889, 1890, 1891, 1892, 1893, 1894, 1895, 1896, 1897,\n",
       "        1898, 1899, 1900, 1901, 1902, 1903, 1904, 1905, 1906, 1907, 1908,\n",
       "        1909, 1910, 1911, 1912, 1913, 1914, 1915, 1916, 1917, 1918, 1919,\n",
       "        1920, 1921, 1922, 1923, 1924, 1925, 1926, 1927, 1928, 1929, 1930,\n",
       "        1931, 1932, 1933, 1934, 1935, 1936, 1937, 1938, 1939, 1940, 1941,\n",
       "        1942, 1943, 1944, 1945, 1946, 1947, 1948, 1949, 1950, 1951, 1952,\n",
       "        1953, 1954, 1955, 1956, 1957, 1958, 1959, 1960, 1961, 1962, 1963,\n",
       "        1964, 1965, 1966, 1967, 1968, 1969, 1970, 1971, 1972, 1973, 1974,\n",
       "        1975, 1976, 1977, 1978, 1979, 1980, 1981, 1982, 1983, 1984, 1985,\n",
       "        1986, 1987, 1988, 1989, 1990, 1991, 1992, 1993, 1994, 1995, 1996,\n",
       "        1997, 1998, 1999], dtype=int64),)"
      ]
     },
     "execution_count": 19,
     "metadata": {},
     "output_type": "execute_result"
    }
   ],
   "source": [
    "np.where(le.inverse_transform(pred) != y)#找出哪裡跟test不一 樣"
   ]
  },
  {
   "cell_type": "code",
   "execution_count": 20,
   "metadata": {},
   "outputs": [
    {
     "data": {
      "text/plain": [
       "2"
      ]
     },
     "execution_count": 20,
     "metadata": {},
     "output_type": "execute_result"
    }
   ],
   "source": [
    "pred[16] #先看看第16"
   ]
  },
  {
   "cell_type": "code",
   "execution_count": 21,
   "metadata": {},
   "outputs": [
    {
     "data": {
      "text/plain": [
       "['寧波', '志願', '願者', '志願者', '交通', '記者', '市民', '活動', '交通規則', '一邊']"
      ]
     },
     "execution_count": 21,
     "metadata": {},
     "output_type": "execute_result"
    }
   ],
   "source": [
    "Jieba_Result[16]"
   ]
  },
  {
   "cell_type": "code",
   "execution_count": 22,
   "metadata": {},
   "outputs": [
    {
     "data": {
      "text/plain": [
       "'0體育'"
      ]
     },
     "execution_count": 22,
     "metadata": {},
     "output_type": "execute_result"
    }
   ],
   "source": [
    "y[16] #跟體育完全沒關係"
   ]
  },
  {
   "cell_type": "code",
   "execution_count": null,
   "metadata": {},
   "outputs": [],
   "source": []
  },
  {
   "cell_type": "code",
   "execution_count": null,
   "metadata": {},
   "outputs": [],
   "source": []
  }
 ],
 "metadata": {
  "kernelspec": {
   "display_name": "Python 3 (ipykernel)",
   "language": "python",
   "name": "python3"
  },
  "language_info": {
   "codemirror_mode": {
    "name": "ipython",
    "version": 3
   },
   "file_extension": ".py",
   "mimetype": "text/x-python",
   "name": "python",
   "nbconvert_exporter": "python",
   "pygments_lexer": "ipython3",
   "version": "3.7.11"
  }
 },
 "nbformat": 4,
 "nbformat_minor": 2
}
